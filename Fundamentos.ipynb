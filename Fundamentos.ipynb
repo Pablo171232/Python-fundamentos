{
 "cells": [
  {
   "cell_type": "code",
   "execution_count": 1,
   "metadata": {},
   "outputs": [
    {
     "name": "stdout",
     "output_type": "stream",
     "text": [
      "hola\n"
     ]
    }
   ],
   "source": [
    "print(\"hola\")"
   ]
  },
  {
   "cell_type": "markdown",
   "metadata": {},
   "source": [
    "#### Fundamentos de python\n",
    "* Variables\n",
    "* Operadores matematicos\n",
    "* Operadores logicos\n",
    "* Operadores de comparacion\n",
    "* Estructuras de control \n",
    "    - Condicionales simples\n",
    "    - Condicionales animados\n",
    "    - Condicionales encadenados\n",
    "    - Ciclos finitos\n",
    "    - Ciclos infinitos\n",
    "* Funciones\n",
    "* Estructuras de datos\n",
    "    - Cadenas de caracteres\n",
    "    - Listas\n",
    "    - Tuplas\n",
    "    - Diccionarios "
   ]
  },
  {
   "cell_type": "markdown",
   "metadata": {},
   "source": [
    "### Variales "
   ]
  },
  {
   "cell_type": "code",
   "execution_count": 3,
   "metadata": {},
   "outputs": [
    {
     "data": {
      "text/plain": [
       "'josefino'"
      ]
     },
     "execution_count": 3,
     "metadata": {},
     "output_type": "execute_result"
    }
   ],
   "source": [
    "name = \"josefino\"\n",
    "name"
   ]
  },
  {
   "cell_type": "code",
   "execution_count": 4,
   "metadata": {},
   "outputs": [],
   "source": [
    "lastname = \"primero\""
   ]
  },
  {
   "cell_type": "code",
   "execution_count": 5,
   "metadata": {},
   "outputs": [],
   "source": [
    "last_name = \"primero\""
   ]
  },
  {
   "cell_type": "code",
   "execution_count": 6,
   "metadata": {},
   "outputs": [
    {
     "ename": "SyntaxError",
     "evalue": "cannot assign to expression here. Maybe you meant '==' instead of '='? (906108882.py, line 1)",
     "output_type": "error",
     "traceback": [
      "\u001b[1;36m  Cell \u001b[1;32mIn[6], line 1\u001b[1;36m\u001b[0m\n\u001b[1;33m    last-name = \"primero\"\u001b[0m\n\u001b[1;37m    ^\u001b[0m\n\u001b[1;31mSyntaxError\u001b[0m\u001b[1;31m:\u001b[0m cannot assign to expression here. Maybe you meant '==' instead of '='?\n"
     ]
    }
   ],
   "source": [
    "last-name = \"primero\""
   ]
  },
  {
   "cell_type": "code",
   "execution_count": 7,
   "metadata": {},
   "outputs": [
    {
     "ename": "NameError",
     "evalue": "name 'last' is not defined",
     "output_type": "error",
     "traceback": [
      "\u001b[1;31m---------------------------------------------------------------------------\u001b[0m",
      "\u001b[1;31mNameError\u001b[0m                                 Traceback (most recent call last)",
      "Cell \u001b[1;32mIn[7], line 1\u001b[0m\n\u001b[1;32m----> 1\u001b[0m \u001b[43mlast\u001b[49m\u001b[38;5;241m.\u001b[39mname \u001b[38;5;241m=\u001b[39m \u001b[38;5;124m\"\u001b[39m\u001b[38;5;124mprimero\u001b[39m\u001b[38;5;124m\"\u001b[39m\n",
      "\u001b[1;31mNameError\u001b[0m: name 'last' is not defined"
     ]
    }
   ],
   "source": [
    "last.name = \"primero\""
   ]
  },
  {
   "cell_type": "code",
   "execution_count": 8,
   "metadata": {},
   "outputs": [],
   "source": [
    "LastName= \"primero2\""
   ]
  },
  {
   "cell_type": "code",
   "execution_count": 12,
   "metadata": {},
   "outputs": [
    {
     "data": {
      "text/plain": [
       "'primero'"
      ]
     },
     "execution_count": 12,
     "metadata": {},
     "output_type": "execute_result"
    }
   ],
   "source": [
    "last_name\n",
    "LastName"
   ]
  },
  {
   "cell_type": "code",
   "execution_count": 13,
   "metadata": {},
   "outputs": [],
   "source": [
    "lastName = \"priero3\""
   ]
  },
  {
   "cell_type": "code",
   "execution_count": 14,
   "metadata": {},
   "outputs": [
    {
     "data": {
      "text/plain": [
       "230"
      ]
     },
     "execution_count": 14,
     "metadata": {},
     "output_type": "execute_result"
    }
   ],
   "source": [
    "base = 23\n",
    "height = 10\n",
    "\n",
    "area= base * height\n",
    "area"
   ]
  },
  {
   "cell_type": "code",
   "execution_count": 16,
   "metadata": {},
   "outputs": [
    {
     "name": "stdout",
     "output_type": "stream",
     "text": [
      "230\n"
     ]
    }
   ],
   "source": [
    "print(area)"
   ]
  },
  {
   "cell_type": "code",
   "execution_count": 31,
   "metadata": {},
   "outputs": [
    {
     "name": "stdout",
     "output_type": "stream",
     "text": [
      "area: 230\n",
      "apellido: primero\n",
      "base del triangulo: 23\n"
     ]
    }
   ],
   "source": [
    "print(\"area:\", area)\n",
    "print(\"apellido:\", last_name)\n",
    "print(\"base del triangulo:\", base)"
   ]
  },
  {
   "cell_type": "markdown",
   "metadata": {},
   "source": [
    "#### Operadores matematicos basicos"
   ]
  },
  {
   "cell_type": "code",
   "execution_count": 34,
   "metadata": {},
   "outputs": [
    {
     "name": "stdout",
     "output_type": "stream",
     "text": [
      "El resultado es: 30\n"
     ]
    }
   ],
   "source": [
    "# suma\n",
    "number_1 = 10\n",
    "number_2 = 20\n",
    "result = number_1 + number_2\n",
    "print(\"El resultado de la suma es:\", result)"
   ]
  },
  {
   "cell_type": "code",
   "execution_count": 35,
   "metadata": {},
   "outputs": [
    {
     "name": "stdout",
     "output_type": "stream",
     "text": [
      "El resultado de la resta es: -10\n"
     ]
    }
   ],
   "source": [
    "# resta\n",
    "number_1 = 10\n",
    "number_2 = 20\n",
    "result = number_1 - number_2\n",
    "print(\"El resultado de la resta es:\", result)"
   ]
  },
  {
   "cell_type": "code",
   "execution_count": 36,
   "metadata": {},
   "outputs": [
    {
     "name": "stdout",
     "output_type": "stream",
     "text": [
      "El resultado de la multiplicacion es: 200\n"
     ]
    }
   ],
   "source": [
    "# multiplicacion\n",
    "number_1 = 10\n",
    "number_2 = 20\n",
    "result = number_1 * number_2\n",
    "print(\"El resultado de la multiplicacion es:\", result)"
   ]
  },
  {
   "cell_type": "code",
   "execution_count": 37,
   "metadata": {},
   "outputs": [
    {
     "name": "stdout",
     "output_type": "stream",
     "text": [
      "El resultado de la division es: 0.5\n"
     ]
    }
   ],
   "source": [
    "# division\n",
    "number_1 = 10\n",
    "number_2 = 20\n",
    "result = number_1 / number_2\n",
    "print(\"El resultado de la division es:\", result)"
   ]
  },
  {
   "cell_type": "code",
   "execution_count": 41,
   "metadata": {},
   "outputs": [
    {
     "name": "stdout",
     "output_type": "stream",
     "text": [
      "<class 'str'>\n",
      "<class 'int'>\n"
     ]
    }
   ],
   "source": [
    "print( type(last_name) )\n",
    "print( type(number_1) )"
   ]
  },
  {
   "cell_type": "code",
   "execution_count": 42,
   "metadata": {},
   "outputs": [
    {
     "name": "stdout",
     "output_type": "stream",
     "text": [
      "<class 'str'>\n",
      "<class 'int'>\n",
      "<class 'float'>\n"
     ]
    }
   ],
   "source": [
    "print( type(last_name) )\n",
    "print( type(number_1) )\n",
    "print( type(result) )"
   ]
  },
  {
   "cell_type": "markdown",
   "metadata": {},
   "source": [
    "### Estructuras de control"
   ]
  },
  {
   "cell_type": "code",
   "execution_count": 1,
   "metadata": {},
   "outputs": [],
   "source": [
    "name1 = \"pablo\"\n",
    "age = 16"
   ]
  },
  {
   "cell_type": "code",
   "execution_count": null,
   "metadata": {},
   "outputs": [],
   "source": [
    "# if condicion:\n",
    "#   print(\"saludos\")"
   ]
  },
  {
   "cell_type": "code",
   "execution_count": 2,
   "metadata": {},
   "outputs": [
    {
     "name": "stdout",
     "output_type": "stream",
     "text": [
      "puedes pasar\n"
     ]
    }
   ],
   "source": [
    "# condicional simple \n",
    "if (age > 15):\n",
    "    print(\"puedes pasar\")"
   ]
  },
  {
   "cell_type": "code",
   "execution_count": null,
   "metadata": {},
   "outputs": [],
   "source": [
    "# operadores de comparacion\n",
    "# mayor que >\n",
    "# menor que <\n",
    "# mayor igual >=\n",
    "# menor igual <=\n",
    "# igual? ==\n",
    "# diferente? !="
   ]
  },
  {
   "cell_type": "code",
   "execution_count": 13,
   "metadata": {},
   "outputs": [
    {
     "name": "stdout",
     "output_type": "stream",
     "text": [
      "puedes pasar Homero\n"
     ]
    }
   ],
   "source": [
    "# condicional simple \n",
    "name1 = input (\"Ingrese su nombre: \")\n",
    "age = input (\"Ingrese su edad: \")\n",
    "#age = int(age)\n",
    "age = float(age)\n",
    "if (age > 15):\n",
    "    print(\"puedes pasar\", name1)"
   ]
  },
  {
   "cell_type": "code",
   "execution_count": 15,
   "metadata": {},
   "outputs": [
    {
     "data": {
      "text/plain": [
       "float"
      ]
     },
     "execution_count": 15,
     "metadata": {},
     "output_type": "execute_result"
    }
   ],
   "source": [
    "type(age)"
   ]
  },
  {
   "cell_type": "code",
   "execution_count": 14,
   "metadata": {},
   "outputs": [
    {
     "data": {
      "text/plain": [
       "16.0"
      ]
     },
     "execution_count": 14,
     "metadata": {},
     "output_type": "execute_result"
    }
   ],
   "source": [
    "age"
   ]
  },
  {
   "cell_type": "code",
   "execution_count": null,
   "metadata": {},
   "outputs": [],
   "source": [
    "# Operadores logicos\n",
    "# and\n",
    "# or \n",
    "# not"
   ]
  },
  {
   "cell_type": "code",
   "execution_count": 17,
   "metadata": {},
   "outputs": [
    {
     "name": "stdout",
     "output_type": "stream",
     "text": [
      "puedes pasar pedro\n"
     ]
    }
   ],
   "source": [
    "# condicional simple \n",
    "name1 = input (\"Ingrese su nombre: \")\n",
    "age = int(input (\"Ingrese su edad: \"))\n",
    "day = input (\"Ingrese dia de la semana:\")\n",
    "#age = int(age)\n",
    "\n",
    "if (age > 15):\n",
    "    if day == \"sabado\":\n",
    "        print(\"puedes pasar\", name1)"
   ]
  },
  {
   "cell_type": "code",
   "execution_count": 20,
   "metadata": {},
   "outputs": [
    {
     "name": "stdout",
     "output_type": "stream",
     "text": [
      "puedes pasar pablo \n"
     ]
    }
   ],
   "source": [
    "# condicional simple \n",
    "name1 = input (\"Ingrese su nombre: \")\n",
    "age = int(input (\"Ingrese su edad: \"))\n",
    "day = input (\"Ingrese dia de la semana:\")\n",
    "#age = int(age)\n",
    "\n",
    "if (age > 15) and (day == \"sabado\" or \"viernes\" ):\n",
    "        print(\"puedes pasar\", name1)"
   ]
  },
  {
   "cell_type": "code",
   "execution_count": null,
   "metadata": {},
   "outputs": [],
   "source": [
    "# condicional simple \n",
    "name1 = input (\"Ingrese su nombre: \")\n",
    "age = int(input (\"Ingrese su edad: \"))\n",
    "day = input (\"Ingrese dia de la semana:\")\n",
    "#age = int(age)\n",
    "\n",
    "if (age > 15) and (day == \"sabado\" or day == \"viernes\" ):\n",
    "        print(\"puedes pasar\", name1)"
   ]
  },
  {
   "cell_type": "code",
   "execution_count": 22,
   "metadata": {},
   "outputs": [
    {
     "name": "stdout",
     "output_type": "stream",
     "text": [
      "puedes pasar Pablo\n"
     ]
    }
   ],
   "source": [
    "# condicional simple \n",
    "name1 = input (\"Ingrese su nombre: \")\n",
    "age = int(input (\"Ingrese su edad: \"))\n",
    "day = input (\"Ingrese dia de la semana:\")\n",
    "#age = int(age)\n",
    "\n",
    "if (age > 15):\n",
    "    if (day == \"sabado\") or (day == \"viernes\"):\n",
    "        print(\"puedes pasar\", name1)"
   ]
  },
  {
   "cell_type": "code",
   "execution_count": 23,
   "metadata": {},
   "outputs": [
    {
     "name": "stdout",
     "output_type": "stream",
     "text": [
      "Fuera de aqui Pedro\n"
     ]
    }
   ],
   "source": [
    "# condicional simple \n",
    "name1 = input (\"Ingrese su nombre: \")\n",
    "age = int(input (\"Ingrese su edad: \"))\n",
    "day = input (\"Ingrese dia de la semana:\")\n",
    "#age = int(age)\n",
    "\n",
    "if (age > 15):\n",
    "    print(\"puedes pasar\", name1)\n",
    "else:\n",
    "    print (\"Fuera de aqui\", name1)\n",
    "    # if (day == \"sabado\") or (day == \"viernes\"):\n",
    "    #     print(\"puedes pasar\", name1)"
   ]
  },
  {
   "cell_type": "code",
   "execution_count": 26,
   "metadata": {},
   "outputs": [
    {
     "name": "stdout",
     "output_type": "stream",
     "text": [
      "Menor de 15\n"
     ]
    }
   ],
   "source": [
    "# condicional simple \n",
    "name1 = input (\"Ingrese su nombre: \")\n",
    "age = int(input (\"Ingrese su edad: \"))\n",
    "\n",
    "#age = int(age)\n",
    "\n",
    "if (age > 15):\n",
    "    day = input (\"Ingrese dia de la semana:\")\n",
    "    \n",
    "    if (day == \"sabado\") or (day == \"viernes\"):\n",
    "        print(\"puedes pasar\", name1)\n",
    "    else:\n",
    "        print (\"No es sabado ni viernes\")\n",
    "else:\n",
    "    print(\"Menor de 15\")"
   ]
  },
  {
   "cell_type": "markdown",
   "metadata": {},
   "source": [
    "#### Condicionaeles encadenados "
   ]
  },
  {
   "cell_type": "code",
   "execution_count": 40,
   "metadata": {},
   "outputs": [
    {
     "name": "stdout",
     "output_type": "stream",
     "text": [
      "Voy al mercado\n"
     ]
    }
   ],
   "source": [
    "# condicional simple \n",
    "# name1 = input (\"Ingrese su nombre: \")\n",
    "# age = int(input (\"Ingrese su edad: \"))\n",
    "day = input (\"Ingrese dia de la semana:\")\n",
    "\n",
    "if day == \"lunes\":\n",
    "    print(\"Voy al cine\")\n",
    "    \n",
    "elif day == \"martes\": \n",
    "    print(\"Voy al gym\")\n",
    "\n",
    "elif day == \"miercoles\": \n",
    "    print(\"Voy al mercado\")\n",
    "\n",
    "elif day == \"jueves\": \n",
    "    print(\"Voy al padel\")\n",
    "\n",
    "elif day == \"viernes\": \n",
    "    print(\"Voy de farra\")\n",
    "else:\n",
    "    print(\"Fin de semana\")\n",
    "\n",
    "#     else:\n",
    "#         print (\"No viernes\")\n",
    "# else:\n",
    "#     print(\"Menor de 15\")"
   ]
  },
  {
   "cell_type": "markdown",
   "metadata": {},
   "source": [
    "#### Ciclos finitos -> for"
   ]
  }
 ],
 "metadata": {
  "kernelspec": {
   "display_name": "Python 3",
   "language": "python",
   "name": "python3"
  },
  "language_info": {
   "codemirror_mode": {
    "name": "ipython",
    "version": 3
   },
   "file_extension": ".py",
   "mimetype": "text/x-python",
   "name": "python",
   "nbconvert_exporter": "python",
   "pygments_lexer": "ipython3",
   "version": "3.12.4"
  }
 },
 "nbformat": 4,
 "nbformat_minor": 2
}
